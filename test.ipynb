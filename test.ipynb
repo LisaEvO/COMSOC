{
 "cells": [
  {
   "cell_type": "code",
   "execution_count": 11,
   "metadata": {},
   "outputs": [],
   "source": [
    "from election import *\n",
    "from voters import *\n",
    "from parties import *\n",
    "from sampling import *\n",
    "import matplotlib.pyplot as plt\n"
   ]
  },
  {
   "cell_type": "code",
   "execution_count": 24,
   "metadata": {},
   "outputs": [
    {
     "ename": "TypeError",
     "evalue": "only integer scalar arrays can be converted to a scalar index",
     "output_type": "error",
     "traceback": [
      "\u001b[1;31m---------------------------------------------------------------------------\u001b[0m",
      "\u001b[1;31mTypeError\u001b[0m                                 Traceback (most recent call last)",
      "Cell \u001b[1;32mIn[24], line 16\u001b[0m\n\u001b[0;32m     13\u001b[0m RANGE_V_STD \u001b[38;5;241m=\u001b[39m [\u001b[38;5;241m0.1\u001b[39m, \u001b[38;5;241m0.2\u001b[39m]\n\u001b[0;32m     14\u001b[0m RANGE_P_STD \u001b[38;5;241m=\u001b[39m [\u001b[38;5;241m0.1\u001b[39m, \u001b[38;5;241m0.3\u001b[39m]\n\u001b[1;32m---> 16\u001b[0m means \u001b[38;5;241m=\u001b[39m np\u001b[38;5;241m.\u001b[39mconcatenate(np\u001b[38;5;241m.\u001b[39mrandom\u001b[38;5;241m.\u001b[39muniform(RANGE_MEANS[\u001b[38;5;241m0\u001b[39m], RANGE_MEANS[\u001b[38;5;241m1\u001b[39m], (NUM_CLUSTERS\u001b[38;5;241m-\u001b[39m\u001b[38;5;241m1\u001b[39m, DIM)), np\u001b[38;5;241m.\u001b[39marray([\u001b[38;5;241m3\u001b[39m,\u001b[38;5;241m3\u001b[39m]))\n\u001b[0;32m     17\u001b[0m pstds \u001b[38;5;241m=\u001b[39m np\u001b[38;5;241m.\u001b[39mrandom\u001b[38;5;241m.\u001b[39muniform(RANGE_P_STD[\u001b[38;5;241m0\u001b[39m], RANGE_P_STD[\u001b[38;5;241m1\u001b[39m], NUM_CLUSTERS)\n\u001b[0;32m     18\u001b[0m vstds \u001b[38;5;241m=\u001b[39m np\u001b[38;5;241m.\u001b[39mrandom\u001b[38;5;241m.\u001b[39muniform(RANGE_V_STD[\u001b[38;5;241m0\u001b[39m], RANGE_V_STD[\u001b[38;5;241m1\u001b[39m], NUM_CLUSTERS)\n",
      "File \u001b[1;32m<__array_function__ internals>:200\u001b[0m, in \u001b[0;36mconcatenate\u001b[1;34m(*args, **kwargs)\u001b[0m\n",
      "\u001b[1;31mTypeError\u001b[0m: only integer scalar arrays can be converted to a scalar index"
     ]
    }
   ],
   "source": [
    "np.random.seed(43)\n",
    "DEMOGRAPHIC = {Saint:[[] for i in range(10000)], \n",
    "               Spineless:[[]for i in range(1)],\n",
    "               Follower:[[2] for i in range(1000)], Follower:[[3] for i in range(1000)], Follower:[[4] for i in range(1000)],\n",
    "               Opportunist:[[2] for i in range(1000)], Opportunist:[[3] for i in range(1000)], Opportunist:[[4] for i in range(1000)],\n",
    "               Strategist:[[3,2] for i in range(1000)]\n",
    "               }\n",
    "\n",
    "NUM_PARTIES = 10\n",
    "NUM_CLUSTERS = 7\n",
    "DIM = 2\n",
    "RANGE_MEANS = [-1, 1]\n",
    "RANGE_V_STD = [0.1, 0.2]\n",
    "RANGE_P_STD = [0.1, 0.3]\n",
    "\n",
    "means = list(np.random.uniform(RANGE_MEANS[0], RANGE_MEANS[1], (NUM_CLUSTERS-1, DIM))) + [[3,3]]\n",
    "pstds = np.random.uniform(RANGE_P_STD[0], RANGE_P_STD[1], NUM_CLUSTERS)\n",
    "vstds = np.random.uniform(RANGE_V_STD[0], RANGE_V_STD[1], NUM_CLUSTERS)\n",
    "weights = np.random.rand(NUM_CLUSTERS)\n",
    "weights /= sum(weights)\n",
    "\n",
    "party_modes = {'modes':[{'mean': means[i], 'std':pstds[i], 'weight':weights[i]} for i in range(NUM_CLUSTERS)]}\n",
    "voter_modes = {'modes':[{'mean': means[i], 'std':vstds[i], 'weight':weights[i]} for i in range(NUM_CLUSTERS)]}\n",
    "\n",
    "\n",
    "parties = sample_parties(NUM_PARTIES, distribution='multimodal', dim=2, params=party_modes)\n",
    "voters = sample_voters(DEMOGRAPHIC, parties, distribution='multimodal', dim=2, params=voter_modes)\n",
    "\n",
    "plt.scatter([voter.position[0] for voter in voters], [voter.position[1] for voter in voters])\n",
    "plt.scatter([party.position[0] for party in parties], [party.position[1] for party in parties])"
   ]
  },
  {
   "cell_type": "code",
   "execution_count": 22,
   "metadata": {},
   "outputs": [
    {
     "data": {
      "text/plain": [
       "(Counter({Party(g, 0.0): 42,\n",
       "          Party(d, 0.0): 21,\n",
       "          Party(b, 0.0): 19,\n",
       "          Party(e, 0.0): 15,\n",
       "          Party(c, 0.0): 13,\n",
       "          Party(h, 0.06): 13,\n",
       "          Party(j, 0.17): 12,\n",
       "          Party(i, 0.0): 10,\n",
       "          Party(a, 0.05): 4,\n",
       "          Party(f, 0.02): 1}),\n",
       " Counter({Party(g, 0.0): 47,\n",
       "          Party(d, 0.0): 23,\n",
       "          Party(b, 0.0): 19,\n",
       "          Party(e, 0.0): 16,\n",
       "          Party(c, 0.0): 11,\n",
       "          Party(h, 0.06): 11,\n",
       "          Party(j, 0.17): 10,\n",
       "          Party(i, 0.0): 9,\n",
       "          Party(a, 0.05): 3,\n",
       "          Party(f, 0.02): 1}))"
      ]
     },
     "execution_count": 22,
     "metadata": {},
     "output_type": "execute_result"
    }
   ],
   "source": [
    "myelection = DHondt(voters, parties, num_seats=150, num_polls=5)\n",
    "[party.compute_poldeg(myelection.voters) for party in myelection.parties]\n",
    "results = myelection.run()\n",
    "results[0], results[-1]"
   ]
  },
  {
   "cell_type": "code",
   "execution_count": null,
   "metadata": {},
   "outputs": [],
   "source": []
  },
  {
   "cell_type": "code",
   "execution_count": null,
   "metadata": {},
   "outputs": [],
   "source": []
  },
  {
   "cell_type": "code",
   "execution_count": null,
   "metadata": {},
   "outputs": [
    {
     "name": "stdout",
     "output_type": "stream",
     "text": [
      "[[-0.90008697  1.11530705]\n",
      " [ 0.39791218 -1.5559321 ]\n",
      " [ 1.59596839  0.78381715]\n",
      " [ 0.95052386  0.27599095]\n",
      " [-1.10997475  0.01318165]\n",
      " [ 3.4589082   0.7868518 ]\n",
      " [-0.18575482  0.20520454]\n",
      " [ 2.23742605  1.44479039]\n",
      " [-1.70664858 -0.72808697]\n",
      " [ 0.47871519 -0.39852384]]\n",
      "[[Party(a, 0), Party(b, 0)], [Party(a, 0), Party(b, 0)], [Party(b, 0), Party(a, 0)], [Party(b, 0), Party(a, 0)], [Party(a, 0), Party(b, 0)], [Party(b, 0), Party(a, 0)], [Party(a, 0), Party(b, 0)], [Party(b, 0), Party(a, 0)], [Party(a, 0), Party(b, 0)], [Party(b, 0), Party(a, 0)]]\n"
     ]
    }
   ],
   "source": []
  },
  {
   "cell_type": "code",
   "execution_count": null,
   "metadata": {},
   "outputs": [],
   "source": []
  }
 ],
 "metadata": {
  "kernelspec": {
   "display_name": "base",
   "language": "python",
   "name": "python3"
  },
  "language_info": {
   "codemirror_mode": {
    "name": "ipython",
    "version": 3
   },
   "file_extension": ".py",
   "mimetype": "text/x-python",
   "name": "python",
   "nbconvert_exporter": "python",
   "pygments_lexer": "ipython3",
   "version": "3.11.5"
  }
 },
 "nbformat": 4,
 "nbformat_minor": 2
}
