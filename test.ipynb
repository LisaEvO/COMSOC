{
 "cells": [
  {
   "cell_type": "code",
   "execution_count": 13,
   "metadata": {},
   "outputs": [
    {
     "data": {
      "text/plain": [
       "(Counter({Party(g, [0.49901472]): 29,\n",
       "          Party(e, [-0.00939516]): 22,\n",
       "          Party(f, [0.16808297]): 21,\n",
       "          Party(d, [-0.35094821]): 19,\n",
       "          Party(a, [-0.7505114]): 18,\n",
       "          Party(h, [0.91012316]): 14,\n",
       "          Party(c, [-0.42802141]): 13,\n",
       "          Party(b, [-0.67941711]): 11,\n",
       "          Party(i, [0.94818291]): 2,\n",
       "          Party(j, [0.98951085]): 1}),\n",
       " Counter({Party(g, [0.49901472]): 53,\n",
       "          Party(d, [-0.35094821]): 42,\n",
       "          Party(e, [-0.00939516]): 15,\n",
       "          Party(f, [0.16808297]): 12,\n",
       "          Party(a, [-0.7505114]): 11,\n",
       "          Party(h, [0.91012316]): 8,\n",
       "          Party(b, [-0.67941711]): 4,\n",
       "          Party(c, [-0.42802141]): 4,\n",
       "          Party(i, [0.94818291]): 1,\n",
       "          Party(j, [0.98951085]): 0}))"
      ]
     },
     "execution_count": 13,
     "metadata": {},
     "output_type": "execute_result"
    }
   ],
   "source": [
    "from election import *\n",
    "from voters import *\n",
    "from parties import *\n",
    "from scipy.stats import truncnorm, uniform\n",
    "\n",
    "demographic = {Saint: [[] for i in range(300)], Spineless:[[] for i in range(100)],\n",
    "                Opportunist:[[3] for i in range(200)], Follower:[[3] for i in range(200)], \n",
    "                NonConformist:[[3] for i in range(50)], Strategist:[[4,2] for i in range(200)]}\n",
    "\n",
    "myelection = DHondt(demographic, 10, 150, 4, pdistr='uniform', vdistr='truncnorm', ddim=1)\n",
    "\n",
    "results = myelection.run()\n",
    "results[0], results[-1]\n"
   ]
  },
  {
   "cell_type": "code",
   "execution_count": 71,
   "metadata": {},
   "outputs": [
    {
     "data": {
      "image/png": "[encoded data removed]",
      "text/plain": [
       "<Figure size 640x480 with 1 Axes>"
      ]
     },
     "metadata": {},
     "output_type": "display_data"
    }
   ],
   "source": [
    "import matplotlib.pyplot as plt\n",
    "x1 = stats.truncnorm.rvs(-1.4, 0.6, loc=-0.3,scale=0.5, size=100000)\n",
    "x2 = stats.truncnorm.rvs(-0.6,1.4, loc=0.3,scale=0.5, size=100000)\n",
    "\n",
    "x = np.concatenate((x1, x2))\n",
    "\n",
    "plt.hist(x,bins=100)\n",
    "plt.show()"
   ]
  },
  {
   "cell_type": "code",
   "execution_count": null,
   "metadata": {},
   "outputs": [],
   "source": []
  },
  {
   "cell_type": "code",
   "execution_count": null,
   "metadata": {},
   "outputs": [],
   "source": []
  }
 ],
 "metadata": {
  "kernelspec": {
   "display_name": "base",
   "language": "python",
   "name": "python3"
  },
  "language_info": {
   "codemirror_mode": {
    "name": "ipython",
    "version": 3
   },
   "file_extension": ".py",
   "mimetype": "text/x-python",
   "name": "python",
   "nbconvert_exporter": "python",
   "pygments_lexer": "ipython3",
   "version": "3.11.5"
  }
 },
 "nbformat": 4,
 "nbformat_minor": 2
}
